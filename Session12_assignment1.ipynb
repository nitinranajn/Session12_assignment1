{
 "cells": [
  {
   "cell_type": "markdown",
   "metadata": {},
   "source": [
    "Read the following data set:\n",
    "https://archive.ics.uci.edu/ml/machine-learning-databases/adult/\n",
    "Rename the columns as per the description from this file:\n",
    "https://archive.ics.uci.edu/ml/machine-learning-databases/adult/adult.names\n",
    "Task:\n",
    "Create a sql db from adult dataset and name it sqladb\n",
    "1. Select 10 records from the adult sqladb\n",
    "2. Show me the average hours per week of all men who are working in private sector\n",
    "3. Show me the frequency table for education, occupation and relationship, separately\n",
    "4. Are there any people who are married, working in private sector and having a masters\n",
    "degree\n",
    "5. What is the average, minimum and maximum age group for people working in\n",
    "different sectors\n",
    "6. Calculate age distribution by country\n",
    "7. Compute a new column as 'Net-Capital-Gain' from the two columns 'capital-gain' and\n",
    "'capital-loss'"
   ]
  },
  {
   "cell_type": "code",
   "execution_count": 140,
   "metadata": {},
   "outputs": [],
   "source": [
    "import numpy as np\n",
    "import pandas as pd\n",
    "from pandas import DataFrame, Series\n",
    "\n",
    "\n",
    "df = pd.read_csv('https://archive.ics.uci.edu/ml/machine-learning-databases/adult/adult.data',sep=\",\",header=None)\n",
    "df.columns=['age','workclass','fnlwgt','education','educationNum','marital_status','occupation','relationship','race','sex','capital_gain','capital_loss','hours_per_week','native_country','income']\n",
    " \n"
   ]
  },
  {
   "cell_type": "code",
   "execution_count": 141,
   "metadata": {},
   "outputs": [
    {
     "name": "stdout",
     "output_type": "stream",
     "text": [
      "2019-01-24 00:54:27,692 INFO sqlalchemy.engine.base.Engine SELECT CAST('test plain returns' AS VARCHAR(60)) AS anon_1\n"
     ]
    },
    {
     "name": "stderr",
     "output_type": "stream",
     "text": [
      "INFO:sqlalchemy.engine.base.Engine:SELECT CAST('test plain returns' AS VARCHAR(60)) AS anon_1\n"
     ]
    },
    {
     "name": "stdout",
     "output_type": "stream",
     "text": [
      "2019-01-24 00:54:27,692 INFO sqlalchemy.engine.base.Engine ()\n"
     ]
    },
    {
     "name": "stderr",
     "output_type": "stream",
     "text": [
      "INFO:sqlalchemy.engine.base.Engine:()\n"
     ]
    },
    {
     "name": "stdout",
     "output_type": "stream",
     "text": [
      "2019-01-24 00:54:27,692 INFO sqlalchemy.engine.base.Engine SELECT CAST('test unicode returns' AS VARCHAR(60)) AS anon_1\n"
     ]
    },
    {
     "name": "stderr",
     "output_type": "stream",
     "text": [
      "INFO:sqlalchemy.engine.base.Engine:SELECT CAST('test unicode returns' AS VARCHAR(60)) AS anon_1\n"
     ]
    },
    {
     "name": "stdout",
     "output_type": "stream",
     "text": [
      "2019-01-24 00:54:27,692 INFO sqlalchemy.engine.base.Engine ()\n"
     ]
    },
    {
     "name": "stderr",
     "output_type": "stream",
     "text": [
      "INFO:sqlalchemy.engine.base.Engine:()\n"
     ]
    },
    {
     "name": "stdout",
     "output_type": "stream",
     "text": [
      "2019-01-24 00:54:27,708 INFO sqlalchemy.engine.base.Engine PRAGMA table_info(\"sqladb\")\n"
     ]
    },
    {
     "name": "stderr",
     "output_type": "stream",
     "text": [
      "INFO:sqlalchemy.engine.base.Engine:PRAGMA table_info(\"sqladb\")\n"
     ]
    },
    {
     "name": "stdout",
     "output_type": "stream",
     "text": [
      "2019-01-24 00:54:27,708 INFO sqlalchemy.engine.base.Engine ()\n"
     ]
    },
    {
     "name": "stderr",
     "output_type": "stream",
     "text": [
      "INFO:sqlalchemy.engine.base.Engine:()\n"
     ]
    },
    {
     "name": "stdout",
     "output_type": "stream",
     "text": [
      "2019-01-24 00:54:27,708 INFO sqlalchemy.engine.base.Engine PRAGMA table_info(\"sqladb\")\n"
     ]
    },
    {
     "name": "stderr",
     "output_type": "stream",
     "text": [
      "INFO:sqlalchemy.engine.base.Engine:PRAGMA table_info(\"sqladb\")\n"
     ]
    },
    {
     "name": "stdout",
     "output_type": "stream",
     "text": [
      "2019-01-24 00:54:27,708 INFO sqlalchemy.engine.base.Engine ()\n"
     ]
    },
    {
     "name": "stderr",
     "output_type": "stream",
     "text": [
      "INFO:sqlalchemy.engine.base.Engine:()\n"
     ]
    },
    {
     "name": "stdout",
     "output_type": "stream",
     "text": [
      "2019-01-24 00:54:27,723 INFO sqlalchemy.engine.base.Engine SELECT name FROM sqlite_master WHERE type='table' ORDER BY name\n"
     ]
    },
    {
     "name": "stderr",
     "output_type": "stream",
     "text": [
      "INFO:sqlalchemy.engine.base.Engine:SELECT name FROM sqlite_master WHERE type='table' ORDER BY name\n"
     ]
    },
    {
     "name": "stdout",
     "output_type": "stream",
     "text": [
      "2019-01-24 00:54:27,723 INFO sqlalchemy.engine.base.Engine ()\n"
     ]
    },
    {
     "name": "stderr",
     "output_type": "stream",
     "text": [
      "INFO:sqlalchemy.engine.base.Engine:()\n"
     ]
    },
    {
     "name": "stdout",
     "output_type": "stream",
     "text": [
      "2019-01-24 00:54:27,746 INFO sqlalchemy.engine.base.Engine PRAGMA table_info(\"sqladb\")\n"
     ]
    },
    {
     "name": "stderr",
     "output_type": "stream",
     "text": [
      "INFO:sqlalchemy.engine.base.Engine:PRAGMA table_info(\"sqladb\")\n"
     ]
    },
    {
     "name": "stdout",
     "output_type": "stream",
     "text": [
      "2019-01-24 00:54:27,748 INFO sqlalchemy.engine.base.Engine ()\n"
     ]
    },
    {
     "name": "stderr",
     "output_type": "stream",
     "text": [
      "INFO:sqlalchemy.engine.base.Engine:()\n"
     ]
    },
    {
     "name": "stdout",
     "output_type": "stream",
     "text": [
      "2019-01-24 00:54:27,748 INFO sqlalchemy.engine.base.Engine SELECT sql FROM  (SELECT * FROM sqlite_master UNION ALL   SELECT * FROM sqlite_temp_master) WHERE name = 'sqladb' AND type = 'table'\n"
     ]
    },
    {
     "name": "stderr",
     "output_type": "stream",
     "text": [
      "INFO:sqlalchemy.engine.base.Engine:SELECT sql FROM  (SELECT * FROM sqlite_master UNION ALL   SELECT * FROM sqlite_temp_master) WHERE name = 'sqladb' AND type = 'table'\n"
     ]
    },
    {
     "name": "stdout",
     "output_type": "stream",
     "text": [
      "2019-01-24 00:54:27,758 INFO sqlalchemy.engine.base.Engine ()\n"
     ]
    },
    {
     "name": "stderr",
     "output_type": "stream",
     "text": [
      "INFO:sqlalchemy.engine.base.Engine:()\n"
     ]
    },
    {
     "name": "stdout",
     "output_type": "stream",
     "text": [
      "2019-01-24 00:54:27,758 INFO sqlalchemy.engine.base.Engine PRAGMA foreign_key_list(\"sqladb\")\n"
     ]
    },
    {
     "name": "stderr",
     "output_type": "stream",
     "text": [
      "INFO:sqlalchemy.engine.base.Engine:PRAGMA foreign_key_list(\"sqladb\")\n"
     ]
    },
    {
     "name": "stdout",
     "output_type": "stream",
     "text": [
      "2019-01-24 00:54:27,758 INFO sqlalchemy.engine.base.Engine ()\n"
     ]
    },
    {
     "name": "stderr",
     "output_type": "stream",
     "text": [
      "INFO:sqlalchemy.engine.base.Engine:()\n"
     ]
    },
    {
     "name": "stdout",
     "output_type": "stream",
     "text": [
      "2019-01-24 00:54:27,768 INFO sqlalchemy.engine.base.Engine SELECT sql FROM  (SELECT * FROM sqlite_master UNION ALL   SELECT * FROM sqlite_temp_master) WHERE name = 'sqladb' AND type = 'table'\n"
     ]
    },
    {
     "name": "stderr",
     "output_type": "stream",
     "text": [
      "INFO:sqlalchemy.engine.base.Engine:SELECT sql FROM  (SELECT * FROM sqlite_master UNION ALL   SELECT * FROM sqlite_temp_master) WHERE name = 'sqladb' AND type = 'table'\n"
     ]
    },
    {
     "name": "stdout",
     "output_type": "stream",
     "text": [
      "2019-01-24 00:54:27,768 INFO sqlalchemy.engine.base.Engine ()\n"
     ]
    },
    {
     "name": "stderr",
     "output_type": "stream",
     "text": [
      "INFO:sqlalchemy.engine.base.Engine:()\n"
     ]
    },
    {
     "name": "stdout",
     "output_type": "stream",
     "text": [
      "2019-01-24 00:54:27,768 INFO sqlalchemy.engine.base.Engine PRAGMA index_list(\"sqladb\")\n"
     ]
    },
    {
     "name": "stderr",
     "output_type": "stream",
     "text": [
      "INFO:sqlalchemy.engine.base.Engine:PRAGMA index_list(\"sqladb\")\n"
     ]
    },
    {
     "name": "stdout",
     "output_type": "stream",
     "text": [
      "2019-01-24 00:54:27,778 INFO sqlalchemy.engine.base.Engine ()\n"
     ]
    },
    {
     "name": "stderr",
     "output_type": "stream",
     "text": [
      "INFO:sqlalchemy.engine.base.Engine:()\n"
     ]
    },
    {
     "name": "stdout",
     "output_type": "stream",
     "text": [
      "2019-01-24 00:54:27,809 INFO sqlalchemy.engine.base.Engine PRAGMA index_info(\"ix_sqladb_index\")\n"
     ]
    },
    {
     "name": "stderr",
     "output_type": "stream",
     "text": [
      "INFO:sqlalchemy.engine.base.Engine:PRAGMA index_info(\"ix_sqladb_index\")\n"
     ]
    },
    {
     "name": "stdout",
     "output_type": "stream",
     "text": [
      "2019-01-24 00:54:27,813 INFO sqlalchemy.engine.base.Engine ()\n"
     ]
    },
    {
     "name": "stderr",
     "output_type": "stream",
     "text": [
      "INFO:sqlalchemy.engine.base.Engine:()\n"
     ]
    },
    {
     "name": "stdout",
     "output_type": "stream",
     "text": [
      "2019-01-24 00:54:27,817 INFO sqlalchemy.engine.base.Engine PRAGMA index_list(\"sqladb\")\n"
     ]
    },
    {
     "name": "stderr",
     "output_type": "stream",
     "text": [
      "INFO:sqlalchemy.engine.base.Engine:PRAGMA index_list(\"sqladb\")\n"
     ]
    },
    {
     "name": "stdout",
     "output_type": "stream",
     "text": [
      "2019-01-24 00:54:27,821 INFO sqlalchemy.engine.base.Engine ()\n"
     ]
    },
    {
     "name": "stderr",
     "output_type": "stream",
     "text": [
      "INFO:sqlalchemy.engine.base.Engine:()\n"
     ]
    },
    {
     "name": "stdout",
     "output_type": "stream",
     "text": [
      "2019-01-24 00:54:27,825 INFO sqlalchemy.engine.base.Engine PRAGMA index_info(\"ix_sqladb_index\")\n"
     ]
    },
    {
     "name": "stderr",
     "output_type": "stream",
     "text": [
      "INFO:sqlalchemy.engine.base.Engine:PRAGMA index_info(\"ix_sqladb_index\")\n"
     ]
    },
    {
     "name": "stdout",
     "output_type": "stream",
     "text": [
      "2019-01-24 00:54:27,825 INFO sqlalchemy.engine.base.Engine ()\n"
     ]
    },
    {
     "name": "stderr",
     "output_type": "stream",
     "text": [
      "INFO:sqlalchemy.engine.base.Engine:()\n"
     ]
    },
    {
     "name": "stdout",
     "output_type": "stream",
     "text": [
      "2019-01-24 00:54:27,829 INFO sqlalchemy.engine.base.Engine SELECT sql FROM  (SELECT * FROM sqlite_master UNION ALL   SELECT * FROM sqlite_temp_master) WHERE name = 'sqladb' AND type = 'table'\n"
     ]
    },
    {
     "name": "stderr",
     "output_type": "stream",
     "text": [
      "INFO:sqlalchemy.engine.base.Engine:SELECT sql FROM  (SELECT * FROM sqlite_master UNION ALL   SELECT * FROM sqlite_temp_master) WHERE name = 'sqladb' AND type = 'table'\n"
     ]
    },
    {
     "name": "stdout",
     "output_type": "stream",
     "text": [
      "2019-01-24 00:54:27,833 INFO sqlalchemy.engine.base.Engine ()\n"
     ]
    },
    {
     "name": "stderr",
     "output_type": "stream",
     "text": [
      "INFO:sqlalchemy.engine.base.Engine:()\n"
     ]
    },
    {
     "name": "stdout",
     "output_type": "stream",
     "text": [
      "2019-01-24 00:54:27,841 INFO sqlalchemy.engine.base.Engine \n",
      "DROP TABLE sqladb\n"
     ]
    },
    {
     "name": "stderr",
     "output_type": "stream",
     "text": [
      "INFO:sqlalchemy.engine.base.Engine:\n",
      "DROP TABLE sqladb\n"
     ]
    },
    {
     "name": "stdout",
     "output_type": "stream",
     "text": [
      "2019-01-24 00:54:27,841 INFO sqlalchemy.engine.base.Engine ()\n"
     ]
    },
    {
     "name": "stderr",
     "output_type": "stream",
     "text": [
      "INFO:sqlalchemy.engine.base.Engine:()\n"
     ]
    },
    {
     "name": "stdout",
     "output_type": "stream",
     "text": [
      "2019-01-24 00:54:28,020 INFO sqlalchemy.engine.base.Engine COMMIT\n"
     ]
    },
    {
     "name": "stderr",
     "output_type": "stream",
     "text": [
      "INFO:sqlalchemy.engine.base.Engine:COMMIT\n"
     ]
    },
    {
     "name": "stdout",
     "output_type": "stream",
     "text": [
      "2019-01-24 00:54:28,036 INFO sqlalchemy.engine.base.Engine \n",
      "CREATE TABLE sqladb (\n",
      "\t\"index\" BIGINT, \n",
      "\tage BIGINT, \n",
      "\tworkclass TEXT, \n",
      "\tfnlwgt BIGINT, \n",
      "\teducation TEXT, \n",
      "\t\"educationNum\" BIGINT, \n",
      "\tmarital_status TEXT, \n",
      "\toccupation TEXT, \n",
      "\trelationship TEXT, \n",
      "\trace TEXT, \n",
      "\tsex TEXT, \n",
      "\tcapital_gain BIGINT, \n",
      "\tcapital_loss BIGINT, \n",
      "\thours_per_week BIGINT, \n",
      "\tnative_country TEXT, \n",
      "\tincome TEXT\n",
      ")\n",
      "\n",
      "\n"
     ]
    },
    {
     "name": "stderr",
     "output_type": "stream",
     "text": [
      "INFO:sqlalchemy.engine.base.Engine:\n",
      "CREATE TABLE sqladb (\n",
      "\t\"index\" BIGINT, \n",
      "\tage BIGINT, \n",
      "\tworkclass TEXT, \n",
      "\tfnlwgt BIGINT, \n",
      "\teducation TEXT, \n",
      "\t\"educationNum\" BIGINT, \n",
      "\tmarital_status TEXT, \n",
      "\toccupation TEXT, \n",
      "\trelationship TEXT, \n",
      "\trace TEXT, \n",
      "\tsex TEXT, \n",
      "\tcapital_gain BIGINT, \n",
      "\tcapital_loss BIGINT, \n",
      "\thours_per_week BIGINT, \n",
      "\tnative_country TEXT, \n",
      "\tincome TEXT\n",
      ")\n",
      "\n",
      "\n"
     ]
    },
    {
     "name": "stdout",
     "output_type": "stream",
     "text": [
      "2019-01-24 00:54:28,048 INFO sqlalchemy.engine.base.Engine ()\n"
     ]
    },
    {
     "name": "stderr",
     "output_type": "stream",
     "text": [
      "INFO:sqlalchemy.engine.base.Engine:()\n"
     ]
    },
    {
     "name": "stdout",
     "output_type": "stream",
     "text": [
      "2019-01-24 00:54:28,188 INFO sqlalchemy.engine.base.Engine COMMIT\n"
     ]
    },
    {
     "name": "stderr",
     "output_type": "stream",
     "text": [
      "INFO:sqlalchemy.engine.base.Engine:COMMIT\n"
     ]
    },
    {
     "name": "stdout",
     "output_type": "stream",
     "text": [
      "2019-01-24 00:54:28,192 INFO sqlalchemy.engine.base.Engine CREATE INDEX ix_sqladb_index ON sqladb (\"index\")\n"
     ]
    },
    {
     "name": "stderr",
     "output_type": "stream",
     "text": [
      "INFO:sqlalchemy.engine.base.Engine:CREATE INDEX ix_sqladb_index ON sqladb (\"index\")\n"
     ]
    },
    {
     "name": "stdout",
     "output_type": "stream",
     "text": [
      "2019-01-24 00:54:28,200 INFO sqlalchemy.engine.base.Engine ()\n"
     ]
    },
    {
     "name": "stderr",
     "output_type": "stream",
     "text": [
      "INFO:sqlalchemy.engine.base.Engine:()\n"
     ]
    },
    {
     "name": "stdout",
     "output_type": "stream",
     "text": [
      "2019-01-24 00:54:28,321 INFO sqlalchemy.engine.base.Engine COMMIT\n"
     ]
    },
    {
     "name": "stderr",
     "output_type": "stream",
     "text": [
      "INFO:sqlalchemy.engine.base.Engine:COMMIT\n"
     ]
    },
    {
     "name": "stdout",
     "output_type": "stream",
     "text": [
      "2019-01-24 00:54:28,406 INFO sqlalchemy.engine.base.Engine BEGIN (implicit)\n"
     ]
    },
    {
     "name": "stderr",
     "output_type": "stream",
     "text": [
      "INFO:sqlalchemy.engine.base.Engine:BEGIN (implicit)\n"
     ]
    },
    {
     "name": "stdout",
     "output_type": "stream",
     "text": [
      "2019-01-24 00:54:29,475 INFO sqlalchemy.engine.base.Engine INSERT INTO sqladb (\"index\", age, workclass, fnlwgt, education, \"educationNum\", marital_status, occupation, relationship, race, sex, capital_gain, capital_loss, hours_per_week, native_country, income) VALUES (?, ?, ?, ?, ?, ?, ?, ?, ?, ?, ?, ?, ?, ?, ?, ?)\n"
     ]
    },
    {
     "name": "stderr",
     "output_type": "stream",
     "text": [
      "INFO:sqlalchemy.engine.base.Engine:INSERT INTO sqladb (\"index\", age, workclass, fnlwgt, education, \"educationNum\", marital_status, occupation, relationship, race, sex, capital_gain, capital_loss, hours_per_week, native_country, income) VALUES (?, ?, ?, ?, ?, ?, ?, ?, ?, ?, ?, ?, ?, ?, ?, ?)\n"
     ]
    },
    {
     "name": "stdout",
     "output_type": "stream",
     "text": [
      "2019-01-24 00:54:29,475 INFO sqlalchemy.engine.base.Engine ((0, 39, ' State-gov', 77516, ' Bachelors', 13, ' Never-married', ' Adm-clerical', ' Not-in-family', ' White', ' Male', 2174, 0, 40, ' United-States', ' <=50K'), (1, 50, ' Self-emp-not-inc', 83311, ' Bachelors', 13, ' Married-civ-spouse', ' Exec-managerial', ' Husband', ' White', ' Male', 0, 0, 13, ' United-States', ' <=50K'), (2, 38, ' Private', 215646, ' HS-grad', 9, ' Divorced', ' Handlers-cleaners', ' Not-in-family', ' White', ' Male', 0, 0, 40, ' United-States', ' <=50K'), (3, 53, ' Private', 234721, ' 11th', 7, ' Married-civ-spouse', ' Handlers-cleaners', ' Husband', ' Black', ' Male', 0, 0, 40, ' United-States', ' <=50K'), (4, 28, ' Private', 338409, ' Bachelors', 13, ' Married-civ-spouse', ' Prof-specialty', ' Wife', ' Black', ' Female', 0, 0, 40, ' Cuba', ' <=50K'), (5, 37, ' Private', 284582, ' Masters', 14, ' Married-civ-spouse', ' Exec-managerial', ' Wife', ' White', ' Female', 0, 0, 40, ' United-States', ' <=50K'), (6, 49, ' Private', 160187, ' 9th', 5, ' Married-spouse-absent', ' Other-service', ' Not-in-family', ' Black', ' Female', 0, 0, 16, ' Jamaica', ' <=50K'), (7, 52, ' Self-emp-not-inc', 209642, ' HS-grad', 9, ' Married-civ-spouse', ' Exec-managerial', ' Husband', ' White', ' Male', 0, 0, 45, ' United-States', ' >50K')  ... displaying 10 of 32561 total bound parameter sets ...  (32559, 22, ' Private', 201490, ' HS-grad', 9, ' Never-married', ' Adm-clerical', ' Own-child', ' White', ' Male', 0, 0, 20, ' United-States', ' <=50K'), (32560, 52, ' Self-emp-inc', 287927, ' HS-grad', 9, ' Married-civ-spouse', ' Exec-managerial', ' Wife', ' White', ' Female', 15024, 0, 40, ' United-States', ' >50K'))\n"
     ]
    },
    {
     "name": "stderr",
     "output_type": "stream",
     "text": [
      "INFO:sqlalchemy.engine.base.Engine:((0, 39, ' State-gov', 77516, ' Bachelors', 13, ' Never-married', ' Adm-clerical', ' Not-in-family', ' White', ' Male', 2174, 0, 40, ' United-States', ' <=50K'), (1, 50, ' Self-emp-not-inc', 83311, ' Bachelors', 13, ' Married-civ-spouse', ' Exec-managerial', ' Husband', ' White', ' Male', 0, 0, 13, ' United-States', ' <=50K'), (2, 38, ' Private', 215646, ' HS-grad', 9, ' Divorced', ' Handlers-cleaners', ' Not-in-family', ' White', ' Male', 0, 0, 40, ' United-States', ' <=50K'), (3, 53, ' Private', 234721, ' 11th', 7, ' Married-civ-spouse', ' Handlers-cleaners', ' Husband', ' Black', ' Male', 0, 0, 40, ' United-States', ' <=50K'), (4, 28, ' Private', 338409, ' Bachelors', 13, ' Married-civ-spouse', ' Prof-specialty', ' Wife', ' Black', ' Female', 0, 0, 40, ' Cuba', ' <=50K'), (5, 37, ' Private', 284582, ' Masters', 14, ' Married-civ-spouse', ' Exec-managerial', ' Wife', ' White', ' Female', 0, 0, 40, ' United-States', ' <=50K'), (6, 49, ' Private', 160187, ' 9th', 5, ' Married-spouse-absent', ' Other-service', ' Not-in-family', ' Black', ' Female', 0, 0, 16, ' Jamaica', ' <=50K'), (7, 52, ' Self-emp-not-inc', 209642, ' HS-grad', 9, ' Married-civ-spouse', ' Exec-managerial', ' Husband', ' White', ' Male', 0, 0, 45, ' United-States', ' >50K')  ... displaying 10 of 32561 total bound parameter sets ...  (32559, 22, ' Private', 201490, ' HS-grad', 9, ' Never-married', ' Adm-clerical', ' Own-child', ' White', ' Male', 0, 0, 20, ' United-States', ' <=50K'), (32560, 52, ' Self-emp-inc', 287927, ' HS-grad', 9, ' Married-civ-spouse', ' Exec-managerial', ' Wife', ' White', ' Female', 15024, 0, 40, ' United-States', ' >50K'))\n"
     ]
    },
    {
     "name": "stdout",
     "output_type": "stream",
     "text": [
      "2019-01-24 00:54:29,971 INFO sqlalchemy.engine.base.Engine COMMIT\n"
     ]
    },
    {
     "name": "stderr",
     "output_type": "stream",
     "text": [
      "INFO:sqlalchemy.engine.base.Engine:COMMIT\n"
     ]
    },
    {
     "data": {
      "text/plain": [
       "[(0, 'index', 'BIGINT', 0, None, 0),\n",
       " (1, 'age', 'BIGINT', 0, None, 0),\n",
       " (2, 'workclass', 'TEXT', 0, None, 0),\n",
       " (3, 'fnlwgt', 'BIGINT', 0, None, 0),\n",
       " (4, 'education', 'TEXT', 0, None, 0),\n",
       " (5, 'educationNum', 'BIGINT', 0, None, 0),\n",
       " (6, 'marital_status', 'TEXT', 0, None, 0),\n",
       " (7, 'occupation', 'TEXT', 0, None, 0),\n",
       " (8, 'relationship', 'TEXT', 0, None, 0),\n",
       " (9, 'race', 'TEXT', 0, None, 0),\n",
       " (10, 'sex', 'TEXT', 0, None, 0),\n",
       " (11, 'capital_gain', 'BIGINT', 0, None, 0),\n",
       " (12, 'capital_loss', 'BIGINT', 0, None, 0),\n",
       " (13, 'hours_per_week', 'BIGINT', 0, None, 0),\n",
       " (14, 'native_country', 'TEXT', 0, None, 0),\n",
       " (15, 'income', 'TEXT', 0, None, 0)]"
      ]
     },
     "execution_count": 141,
     "metadata": {},
     "output_type": "execute_result"
    }
   ],
   "source": [
    "# Create a sql db from adult dataset and name it sqladb\n",
    "import sqlite3 as db\n",
    "from pandasql import sqldf\n",
    "import sqlalchemy\n",
    "\n",
    "from sqlalchemy import create_engine\n",
    "\n",
    "engine = create_engine('sqlite:///sqladb', echo=True)\n",
    "df.to_sql('sqladb', engine, if_exists='replace')\n",
    "connection = db.connect(\"sqladb\")\n",
    "cursor = connection.cursor()\n",
    "cursor.execute('PRAGMA TABLE_INFO({})'.format(\"sqladb\"))\n",
    "cursor.fetchall()"
   ]
  },
  {
   "cell_type": "code",
   "execution_count": 142,
   "metadata": {},
   "outputs": [
    {
     "name": "stdout",
     "output_type": "stream",
     "text": [
      "   index  age          workclass  fnlwgt   education  educationNum  \\\n",
      "0      0   39          State-gov   77516   Bachelors            13   \n",
      "1      1   50   Self-emp-not-inc   83311   Bachelors            13   \n",
      "2      2   38            Private  215646     HS-grad             9   \n",
      "3      3   53            Private  234721        11th             7   \n",
      "4      4   28            Private  338409   Bachelors            13   \n",
      "5      5   37            Private  284582     Masters            14   \n",
      "6      6   49            Private  160187         9th             5   \n",
      "7      7   52   Self-emp-not-inc  209642     HS-grad             9   \n",
      "8      8   31            Private   45781     Masters            14   \n",
      "9      9   42            Private  159449   Bachelors            13   \n",
      "\n",
      "           marital_status          occupation    relationship    race  \\\n",
      "0           Never-married        Adm-clerical   Not-in-family   White   \n",
      "1      Married-civ-spouse     Exec-managerial         Husband   White   \n",
      "2                Divorced   Handlers-cleaners   Not-in-family   White   \n",
      "3      Married-civ-spouse   Handlers-cleaners         Husband   Black   \n",
      "4      Married-civ-spouse      Prof-specialty            Wife   Black   \n",
      "5      Married-civ-spouse     Exec-managerial            Wife   White   \n",
      "6   Married-spouse-absent       Other-service   Not-in-family   Black   \n",
      "7      Married-civ-spouse     Exec-managerial         Husband   White   \n",
      "8           Never-married      Prof-specialty   Not-in-family   White   \n",
      "9      Married-civ-spouse     Exec-managerial         Husband   White   \n",
      "\n",
      "       sex  capital_gain  capital_loss  hours_per_week  native_country  income  \n",
      "0     Male          2174             0              40   United-States   <=50K  \n",
      "1     Male             0             0              13   United-States   <=50K  \n",
      "2     Male             0             0              40   United-States   <=50K  \n",
      "3     Male             0             0              40   United-States   <=50K  \n",
      "4   Female             0             0              40            Cuba   <=50K  \n",
      "5   Female             0             0              40   United-States   <=50K  \n",
      "6   Female             0             0              16         Jamaica   <=50K  \n",
      "7     Male             0             0              45   United-States    >50K  \n",
      "8   Female         14084             0              50   United-States    >50K  \n",
      "9     Male          5178             0              40   United-States    >50K  \n"
     ]
    }
   ],
   "source": [
    "# Select 10 records from the adult sqladb\n",
    "print(pd.read_sql_query('SELECT * FROM sqladb limit 10', connection))"
   ]
  },
  {
   "cell_type": "code",
   "execution_count": 143,
   "metadata": {},
   "outputs": [
    {
     "name": "stdout",
     "output_type": "stream",
     "text": [
      "[(42.22122591006424,)]\n"
     ]
    }
   ],
   "source": [
    "# Show me the average hours per week of all men who are working in private sector\n",
    "\n",
    "cursor.execute('SELECT avg(hours_per_week) FROM sqladb WHERE workclass=\" Private\" and sex = \" Male\"')\n",
    "output = cursor.fetchall()\n",
    "print(output)"
   ]
  },
  {
   "cell_type": "code",
   "execution_count": null,
   "metadata": {},
   "outputs": [],
   "source": []
  },
  {
   "cell_type": "code",
   "execution_count": 144,
   "metadata": {},
   "outputs": [
    {
     "data": {
      "text/plain": [
       "[(' 10th', 933),\n",
       " (' 11th', 1175),\n",
       " (' 12th', 433),\n",
       " (' 1st-4th', 168),\n",
       " (' 5th-6th', 333),\n",
       " (' 7th-8th', 646),\n",
       " (' 9th', 514),\n",
       " (' Assoc-acdm', 1067),\n",
       " (' Assoc-voc', 1382),\n",
       " (' Bachelors', 5355),\n",
       " (' Doctorate', 413),\n",
       " (' HS-grad', 10501),\n",
       " (' Masters', 1723),\n",
       " (' Preschool', 51),\n",
       " (' Prof-school', 576),\n",
       " (' Some-college', 7291)]"
      ]
     },
     "metadata": {},
     "output_type": "display_data"
    }
   ],
   "source": [
    "# Show me the frequency table for education, occupation and relationship, separately\n",
    "# education\n",
    "cursor.execute('SELECT education, COUNT(*) FROM sqladb GROUP BY education')\n",
    "output = cursor.fetchall()\n",
    "display(output)"
   ]
  },
  {
   "cell_type": "code",
   "execution_count": 145,
   "metadata": {},
   "outputs": [
    {
     "data": {
      "text/plain": [
       "[(' ?', 1843),\n",
       " (' Adm-clerical', 3770),\n",
       " (' Armed-Forces', 9),\n",
       " (' Craft-repair', 4099),\n",
       " (' Exec-managerial', 4066),\n",
       " (' Farming-fishing', 994),\n",
       " (' Handlers-cleaners', 1370),\n",
       " (' Machine-op-inspct', 2002),\n",
       " (' Other-service', 3295),\n",
       " (' Priv-house-serv', 149),\n",
       " (' Prof-specialty', 4140),\n",
       " (' Protective-serv', 649),\n",
       " (' Sales', 3650),\n",
       " (' Tech-support', 928),\n",
       " (' Transport-moving', 1597)]"
      ]
     },
     "metadata": {},
     "output_type": "display_data"
    }
   ],
   "source": [
    "# Ocupation\n",
    "cursor.execute('SELECT occupation, COUNT(*) FROM sqladb GROUP BY occupation')\n",
    "output = cursor.fetchall()\n",
    "display(output)"
   ]
  },
  {
   "cell_type": "code",
   "execution_count": 146,
   "metadata": {},
   "outputs": [
    {
     "data": {
      "text/plain": [
       "[(' Husband', 13193),\n",
       " (' Not-in-family', 8305),\n",
       " (' Other-relative', 981),\n",
       " (' Own-child', 5068),\n",
       " (' Unmarried', 3446),\n",
       " (' Wife', 1568)]"
      ]
     },
     "metadata": {},
     "output_type": "display_data"
    }
   ],
   "source": [
    "# Relationship\n",
    "cursor.execute('SELECT relationship, COUNT(*) FROM sqladb GROUP BY relationship')\n",
    "output = cursor.fetchall()\n",
    "display(output)"
   ]
  },
  {
   "cell_type": "code",
   "execution_count": 147,
   "metadata": {},
   "outputs": [
    {
     "name": "stdout",
     "output_type": "stream",
     "text": [
      "   index  age workclass  fnlwgt education  educationNum       marital_status  \\\n",
      "0      5   37   Private  284582   Masters            14   Married-civ-spouse   \n",
      "1     87   33   Private  202051   Masters            14   Married-civ-spouse   \n",
      "2    100   76   Private  124191   Masters            14   Married-civ-spouse   \n",
      "3    188   31   Private   99928   Masters            14   Married-civ-spouse   \n",
      "4    198   35   Private  138992   Masters            14   Married-civ-spouse   \n",
      "5    311   34   Private  142897   Masters            14   Married-civ-spouse   \n",
      "6    361   62   Private  270092   Masters            14   Married-civ-spouse   \n",
      "7    405   41   Private  445382   Masters            14   Married-civ-spouse   \n",
      "8    435   33   Private  208405   Masters            14   Married-civ-spouse   \n",
      "9    468   49   Private  192776   Masters            14   Married-civ-spouse   \n",
      "\n",
      "         occupation     relationship                 race      sex  \\\n",
      "0   Exec-managerial             Wife                White   Female   \n",
      "1    Prof-specialty          Husband                White     Male   \n",
      "2   Exec-managerial          Husband                White     Male   \n",
      "3    Prof-specialty             Wife                White   Female   \n",
      "4    Prof-specialty   Other-relative                White     Male   \n",
      "5   Exec-managerial          Husband   Asian-Pac-Islander     Male   \n",
      "6    Prof-specialty          Husband                White     Male   \n",
      "7   Exec-managerial          Husband                White     Male   \n",
      "8    Prof-specialty          Husband                White     Male   \n",
      "9   Exec-managerial          Husband                White     Male   \n",
      "\n",
      "   capital_gain  capital_loss  hours_per_week  native_country  income  \n",
      "0             0             0              40   United-States   <=50K  \n",
      "1             0             0              50   United-States   <=50K  \n",
      "2             0             0              40   United-States    >50K  \n",
      "3             0             0              50   United-States   <=50K  \n",
      "4          7298             0              40   United-States    >50K  \n",
      "5          7298             0              35          Taiwan    >50K  \n",
      "6             0             0              40   United-States    >50K  \n",
      "7             0          1977              65   United-States    >50K  \n",
      "8             0             0              50   United-States    >50K  \n",
      "9             0          1977              45   United-States    >50K  \n"
     ]
    }
   ],
   "source": [
    "# Are there any people who are married, working in private sector and having a masters degree\n",
    "print(pd.read_sql_query('SELECT * FROM sqladb WHERE education=\" Masters\" AND workclass=\" Private\" AND marital_status=\" Married-civ-spouse\"',\n",
    "                        connection).head(10))"
   ]
  },
  {
   "cell_type": "code",
   "execution_count": null,
   "metadata": {},
   "outputs": [],
   "source": []
  },
  {
   "cell_type": "code",
   "execution_count": 148,
   "metadata": {
    "scrolled": true
   },
   "outputs": [
    {
     "data": {
      "text/plain": [
       "'Minimum Age Group'"
      ]
     },
     "metadata": {},
     "output_type": "display_data"
    },
    {
     "data": {
      "text/plain": [
       "[(' ?', 17),\n",
       " (' Adm-clerical', 17),\n",
       " (' Armed-Forces', 23),\n",
       " (' Craft-repair', 17),\n",
       " (' Exec-managerial', 17),\n",
       " (' Farming-fishing', 17),\n",
       " (' Handlers-cleaners', 17),\n",
       " (' Machine-op-inspct', 17),\n",
       " (' Other-service', 17),\n",
       " (' Priv-house-serv', 17),\n",
       " (' Prof-specialty', 17),\n",
       " (' Protective-serv', 17),\n",
       " (' Sales', 17),\n",
       " (' Tech-support', 17),\n",
       " (' Transport-moving', 17)]"
      ]
     },
     "metadata": {},
     "output_type": "display_data"
    }
   ],
   "source": [
    "# What is the average, minimum and maximum age group for people working in different sectors\n",
    "# Minimum Age Group\n",
    "cursor.execute('SELECT occupation, min(age) FROM sqladb GROUP BY occupation')\n",
    "output = cursor.fetchall()\n",
    "display(\"Minimum Age Group\",output)"
   ]
  },
  {
   "cell_type": "code",
   "execution_count": 149,
   "metadata": {},
   "outputs": [
    {
     "data": {
      "text/plain": [
       "'Maximum Age Group'"
      ]
     },
     "metadata": {},
     "output_type": "display_data"
    },
    {
     "data": {
      "text/plain": [
       "[(' ?', 90),\n",
       " (' Adm-clerical', 90),\n",
       " (' Armed-Forces', 46),\n",
       " (' Craft-repair', 90),\n",
       " (' Exec-managerial', 90),\n",
       " (' Farming-fishing', 90),\n",
       " (' Handlers-cleaners', 90),\n",
       " (' Machine-op-inspct', 90),\n",
       " (' Other-service', 90),\n",
       " (' Priv-house-serv', 81),\n",
       " (' Prof-specialty', 90),\n",
       " (' Protective-serv', 90),\n",
       " (' Sales', 90),\n",
       " (' Tech-support', 73),\n",
       " (' Transport-moving', 90)]"
      ]
     },
     "metadata": {},
     "output_type": "display_data"
    }
   ],
   "source": [
    "# Maximum Age Group\n",
    "cursor.execute('SELECT occupation, max(age) FROM sqladb GROUP BY occupation')\n",
    "output = cursor.fetchall()\n",
    "display(\"Maximum Age Group\",output)"
   ]
  },
  {
   "cell_type": "code",
   "execution_count": 150,
   "metadata": {},
   "outputs": [
    {
     "data": {
      "text/plain": [
       "'Average Age group'"
      ]
     },
     "metadata": {},
     "output_type": "display_data"
    },
    {
     "data": {
      "text/plain": [
       "[(' ?', 40.882799782962564),\n",
       " (' Adm-clerical', 36.96445623342175),\n",
       " (' Armed-Forces', 30.22222222222222),\n",
       " (' Craft-repair', 39.03147109050988),\n",
       " (' Exec-managerial', 42.16920806689621),\n",
       " (' Farming-fishing', 41.2112676056338),\n",
       " (' Handlers-cleaners', 32.16569343065694),\n",
       " (' Machine-op-inspct', 37.71528471528472),\n",
       " (' Other-service', 34.94962063732929),\n",
       " (' Priv-house-serv', 41.7248322147651),\n",
       " (' Prof-specialty', 40.51763285024155),\n",
       " (' Protective-serv', 38.9537750385208),\n",
       " (' Sales', 37.353972602739724),\n",
       " (' Tech-support', 37.022629310344826),\n",
       " (' Transport-moving', 40.19787100814026)]"
      ]
     },
     "metadata": {},
     "output_type": "display_data"
    }
   ],
   "source": [
    "# Average Age group\n",
    "cursor.execute('SELECT occupation, avg(age) FROM sqladb GROUP BY occupation')\n",
    "output = cursor.fetchall()\n",
    "display(\"Average Age group\",output)"
   ]
  },
  {
   "cell_type": "code",
   "execution_count": 151,
   "metadata": {},
   "outputs": [
    {
     "data": {
      "text/plain": [
       "[(' ?', 81),\n",
       " (' Cambodia', 48),\n",
       " (' Canada', 32),\n",
       " (' China', 23),\n",
       " (' Columbia', 49),\n",
       " (' Cuba', 48),\n",
       " (' Dominican-Republic', 45),\n",
       " (' Ecuador', 27),\n",
       " (' El-Salvador', 39),\n",
       " (' England', 48),\n",
       " (' France', 64),\n",
       " (' Germany', 74),\n",
       " (' Greece', 23),\n",
       " (' Guatemala', 22),\n",
       " (' Haiti', 29),\n",
       " (' Holand-Netherlands', 32),\n",
       " (' Honduras', 30),\n",
       " (' Hong', 28),\n",
       " (' Hungary', 47),\n",
       " (' India', 23),\n",
       " (' Iran', 42),\n",
       " (' Ireland', 23),\n",
       " (' Italy', 41),\n",
       " (' Jamaica', 22),\n",
       " (' Japan', 54),\n",
       " (' Laos', 29),\n",
       " (' Mexico', 43),\n",
       " (' Nicaragua', 27),\n",
       " (' Outlying-US(Guam-USVI-etc)', 47),\n",
       " (' Peru', 25),\n",
       " (' Philippines', 39),\n",
       " (' Poland', 85),\n",
       " (' Portugal', 48),\n",
       " (' Puerto-Rico', 33),\n",
       " (' Scotland', 49),\n",
       " (' South', 22),\n",
       " (' Taiwan', 32),\n",
       " (' Thailand', 55),\n",
       " (' Trinadad&Tobago', 32),\n",
       " (' United-States', 52),\n",
       " (' Vietnam', 51),\n",
       " (' Yugoslavia', 29)]"
      ]
     },
     "metadata": {},
     "output_type": "display_data"
    }
   ],
   "source": [
    "# Calculate age distribution by country\n",
    "cursor.execute('SELECT native_country, age FROM sqladb GROUP BY native_country')\n",
    "output = cursor.fetchall()\n",
    "display(output)"
   ]
  },
  {
   "cell_type": "code",
   "execution_count": null,
   "metadata": {},
   "outputs": [],
   "source": []
  },
  {
   "cell_type": "code",
   "execution_count": 162,
   "metadata": {},
   "outputs": [
    {
     "name": "stdout",
     "output_type": "stream",
     "text": [
      "   index  age          workclass  fnlwgt   education  educationNum  \\\n",
      "0      0   39          State-gov   77516   Bachelors            13   \n",
      "1      1   50   Self-emp-not-inc   83311   Bachelors            13   \n",
      "2      2   38            Private  215646     HS-grad             9   \n",
      "3      3   53            Private  234721        11th             7   \n",
      "4      4   28            Private  338409   Bachelors            13   \n",
      "5      5   37            Private  284582     Masters            14   \n",
      "6      6   49            Private  160187         9th             5   \n",
      "7      7   52   Self-emp-not-inc  209642     HS-grad             9   \n",
      "8      8   31            Private   45781     Masters            14   \n",
      "9      9   42            Private  159449   Bachelors            13   \n",
      "\n",
      "           marital_status          occupation    relationship    race  \\\n",
      "0           Never-married        Adm-clerical   Not-in-family   White   \n",
      "1      Married-civ-spouse     Exec-managerial         Husband   White   \n",
      "2                Divorced   Handlers-cleaners   Not-in-family   White   \n",
      "3      Married-civ-spouse   Handlers-cleaners         Husband   Black   \n",
      "4      Married-civ-spouse      Prof-specialty            Wife   Black   \n",
      "5      Married-civ-spouse     Exec-managerial            Wife   White   \n",
      "6   Married-spouse-absent       Other-service   Not-in-family   Black   \n",
      "7      Married-civ-spouse     Exec-managerial         Husband   White   \n",
      "8           Never-married      Prof-specialty   Not-in-family   White   \n",
      "9      Married-civ-spouse     Exec-managerial         Husband   White   \n",
      "\n",
      "       sex  capital_gain  capital_loss  hours_per_week  native_country  income  \n",
      "0     Male          2174             0              40   United-States   <=50K  \n",
      "1     Male             0             0              13   United-States   <=50K  \n",
      "2     Male             0             0              40   United-States   <=50K  \n",
      "3     Male             0             0              40   United-States   <=50K  \n",
      "4   Female             0             0              40            Cuba   <=50K  \n",
      "5   Female             0             0              40   United-States   <=50K  \n",
      "6   Female             0             0              16         Jamaica   <=50K  \n",
      "7     Male             0             0              45   United-States    >50K  \n",
      "8   Female         14084             0              50   United-States    >50K  \n",
      "9     Male          5178             0              40   United-States    >50K  \n"
     ]
    }
   ],
   "source": [
    "# Compute a new column as 'Net-Capital-Gain' from the two columns 'capital_gain' and 'capital_loss'\n",
    "cursor.execute('UPDATE sqladb SET capital_gain=capital_gain-capital_loss')\n",
    "\n",
    "print(pd.read_sql_query(\"SELECT * FROM sqladb\", connection).head(10))"
   ]
  },
  {
   "cell_type": "code",
   "execution_count": null,
   "metadata": {},
   "outputs": [],
   "source": []
  }
 ],
 "metadata": {
  "kernelspec": {
   "display_name": "Python 3",
   "language": "python",
   "name": "python3"
  },
  "language_info": {
   "codemirror_mode": {
    "name": "ipython",
    "version": 3
   },
   "file_extension": ".py",
   "mimetype": "text/x-python",
   "name": "python",
   "nbconvert_exporter": "python",
   "pygments_lexer": "ipython3",
   "version": "3.7.0"
  }
 },
 "nbformat": 4,
 "nbformat_minor": 2
}
